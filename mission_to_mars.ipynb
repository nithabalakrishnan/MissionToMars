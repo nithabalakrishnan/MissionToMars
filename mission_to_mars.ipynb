{
 "cells": [
  {
   "cell_type": "code",
   "execution_count": 1,
   "metadata": {},
   "outputs": [],
   "source": [
    "from splinter import Browser\n",
    "from bs4 import BeautifulSoup\n",
    "import re \n",
    "import pandas as pd\n",
    "from splinter.exceptions import ElementDoesNotExist\n",
    "import requests\n",
    "import platform\n"
   ]
  },
  {
   "cell_type": "code",
   "execution_count": 2,
   "metadata": {},
   "outputs": [
    {
     "name": "stdout",
     "output_type": "stream",
     "text": [
      "Darwin\n"
     ]
    }
   ],
   "source": [
    "system = platform.system()\n",
    "print(system)\n",
    "if system == 'Darwin':\n",
    "    cd = 'chromedriver'\n",
    "elif system == 'Windows':\n",
    "    cd = 'chromedrive.exe'\n"
   ]
  },
  {
   "cell_type": "code",
   "execution_count": 3,
   "metadata": {},
   "outputs": [
    {
     "name": "stdout",
     "output_type": "stream",
     "text": [
      "/usr/local/bin/chromedriver\r\n"
     ]
    }
   ],
   "source": [
    "# https://splinter.readthedocs.io/en/latest/drivers/chrome.html\n",
    "!which chromedriver"
   ]
  },
  {
   "cell_type": "code",
   "execution_count": 4,
   "metadata": {},
   "outputs": [],
   "source": [
    "def browser_init(url):\n",
    "    \n",
    "    executable_path = {'executable_path': cd}\n",
    "    browser = Browser('chrome', **executable_path, headless=False)\n",
    "    \n",
    "    browser.visit(url)\n",
    "    html = browser.html\n",
    "    soup = BeautifulSoup(html, 'html.parser')\n",
    "    browser.quit() \n",
    "    return soup"
   ]
  },
  {
   "cell_type": "code",
   "execution_count": null,
   "metadata": {},
   "outputs": [],
   "source": []
  },
  {
   "cell_type": "code",
   "execution_count": 5,
   "metadata": {},
   "outputs": [
    {
     "name": "stdout",
     "output_type": "stream",
     "text": [
      "Robotic Toolkit Added to NASA's Mars 2020 Rover\n",
      "The bit carousel, which lies at the heart of the rover's Sample Caching System, is now aboard NASA's newest rover.\n"
     ]
    }
   ],
   "source": [
    "url = \"https://mars.nasa.gov/news/?page=0&per_page=40&order=publish_date+desc%2Ccreated_at+desc&search=&category=19%2C165%2C184%2C204&blank_scope=Latest\"\n",
    "soup = browser_init(url)\n",
    "title_div = soup.find('div', class_='content_title').text\n",
    "p_div = soup.find('div' , class_ = 'article_teaser_body').text.strip()\n",
    "print(f'{title_div}\\n{p_div}')"
   ]
  },
  {
   "cell_type": "markdown",
   "metadata": {},
   "source": [
    "# PL Mars Space Images - Featured Image"
   ]
  },
  {
   "cell_type": "code",
   "execution_count": null,
   "metadata": {},
   "outputs": [],
   "source": [
    "base_url = \"https://www.jpl.nasa.gov\"\n",
    "soup = browser_init(base_url + \"/spaceimages/?search=&category=Mars\")"
   ]
  },
  {
   "cell_type": "code",
   "execution_count": null,
   "metadata": {},
   "outputs": [],
   "source": [
    "featured_image = soup.find(class_ = 'carousel_item')\n",
    "featured_image_a = featured_image.find('a')\n",
    "featured_image_link =featured_image_a.get('data-fancybox-href') \n",
    "featured_image_link = base_url+featured_image_link\n",
    "print(f'Link for the featured image(Mars) \\n{featured_image_link}')"
   ]
  },
  {
   "cell_type": "markdown",
   "metadata": {},
   "source": [
    "# Mars Weather"
   ]
  },
  {
   "cell_type": "code",
   "execution_count": null,
   "metadata": {},
   "outputs": [],
   "source": [
    "twitter_base_url = 'https://twitter.com/marswxreport?lang=en'\n",
    "soup = browser_init(twitter_base_url)\n",
    "mars_weather_tweets = soup.find_all('p',class_ = 'TweetTextSize TweetTextSize--normal js-tweet-text tweet-text')\n",
    "for tweet in mars_weather_tweets:\n",
    "    weather_tweet = tweet.text\n",
    "    if(weather_tweet.startswith('InSight sol')):\n",
    "        mars_weather = weather_tweet\n",
    "        break\n",
    "print(mars_weather)"
   ]
  },
  {
   "cell_type": "markdown",
   "metadata": {},
   "source": [
    "# Mars Facts"
   ]
  },
  {
   "cell_type": "code",
   "execution_count": null,
   "metadata": {},
   "outputs": [],
   "source": [
    "mars_facts_url = 'https://space-facts.com/mars/'\n",
    "tables = pd.read_html(mars_facts_url)\n",
    "planet_facts = tables[1]\n",
    "\n",
    "planet_facts\n",
    "planet_facts"
   ]
  },
  {
   "cell_type": "code",
   "execution_count": null,
   "metadata": {},
   "outputs": [],
   "source": [
    "#converting to HTML \n",
    "facts_html_string = planet_facts.to_html(justify=\"left\",index=False,header=False)\n",
    "facts_html_string"
   ]
  },
  {
   "cell_type": "markdown",
   "metadata": {},
   "source": [
    "# Mars Hemispheres"
   ]
  },
  {
   "cell_type": "code",
   "execution_count": null,
   "metadata": {},
   "outputs": [],
   "source": [
    "def get_image_info(soup):\n",
    "    # Get image URL\n",
    "    image_info = soup.find(class_=\"downloads\")\n",
    "    image_info_link = image_info.find(\"li\").find(\"a\")\n",
    "    img_url = image_info_link.get(\"href\")\n",
    "\n",
    "    # Get hemisphere title\n",
    "    title = soup.find(class_=\"content\").find(class_=\"title\").text\n",
    "    \n",
    "    # Create dict object\n",
    "    mars_hemi_dict = {}\n",
    "    mars_hemi_dict[\"title\"] = title\n",
    "    mars_hemi_dict[\"img_url\"] = img_url\n",
    "    \n",
    "    return mars_hemi_dict"
   ]
  },
  {
   "cell_type": "code",
   "execution_count": null,
   "metadata": {},
   "outputs": [],
   "source": [
    "base_url = 'https://astrogeology.usgs.gov'\n",
    "mars_hemi_url = base_url + '/search/results?q=hemisphere+enhanced&k1=target&v1=Mars'\n",
    "soup = browser_init(mars_hemi_url)\n",
    "links = []\n",
    "parents = soup.select(\"#results-accordian\")    \n",
    "for parent in parents :\n",
    "    \n",
    "    for x in range(0,8, 2):\n",
    "        a = parent.select('a',class_ = 'itemLink product-item')[x]\n",
    "        links.append(base_url + a.get(\"href\"))\n"
   ]
  },
  {
   "cell_type": "code",
   "execution_count": null,
   "metadata": {},
   "outputs": [],
   "source": [
    "mars_hemi_info = []\n",
    "for link in links:\n",
    "    soup = browser_init(link)\n",
    "    mars_hemi_info.append(get_image_info(soup))\n",
    "    \n",
    "print(mars_hemi_info)"
   ]
  },
  {
   "cell_type": "code",
   "execution_count": null,
   "metadata": {},
   "outputs": [],
   "source": []
  }
 ],
 "metadata": {
  "kernelspec": {
   "display_name": "Python 3",
   "language": "python",
   "name": "python3"
  },
  "language_info": {
   "codemirror_mode": {
    "name": "ipython",
    "version": 3
   },
   "file_extension": ".py",
   "mimetype": "text/x-python",
   "name": "python",
   "nbconvert_exporter": "python",
   "pygments_lexer": "ipython3",
   "version": "3.7.3"
  }
 },
 "nbformat": 4,
 "nbformat_minor": 2
}
